{
 "cells": [
  {
   "cell_type": "code",
   "execution_count": null,
   "metadata": {},
   "outputs": [],
   "source": [
    "import numpy as np\n",
    "import matplotlib.pyplot as plt\n",
    "import imageio\n",
    "import requests\n",
    "import io"
   ]
  },
  {
   "cell_type": "markdown",
   "metadata": {},
   "source": [
    "## Download and read the image"
   ]
  },
  {
   "cell_type": "code",
   "execution_count": null,
   "metadata": {},
   "outputs": [],
   "source": [
    "# load the image from file\n",
    "image_file = (\n",
    "    \"https://git.embl.de/grp-bio-it/image-analysis-training-resources/raw/\"\n",
    "    \"1fc71747f0caddfd3e206b700b41f2bf69c07a49/image_data/xy_8bit__two_cells.tif\"\n",
    ")\n",
    "\n",
    "buffer = io.BytesIO()\n",
    "buffer.write(requests.get(image_file).content)\n",
    "buffer.seek(0)\n",
    "\n",
    "image = imageio.imread(buffer, format='tif')"
   ]
  },
  {
   "cell_type": "markdown",
   "metadata": {},
   "source": [
    "## Image Binarization"
   ]
  },
  {
   "cell_type": "code",
   "execution_count": null,
   "metadata": {},
   "outputs": [],
   "source": [
    "# binarize the image, so that all values larger than the threshold are foreground\n",
    "threshold_value = 60\n",
    "binarized = image > threshold_value\n",
    "\n",
    "# display the original and the binarized image\n",
    "fig, ax = plt.subplots(2)\n",
    "ax[0].imshow(image)\n",
    "ax[0].set_title(\"Image\")\n",
    "ax[1].imshow(binarized)\n",
    "ax[1].set_title(\"Binarized\")"
   ]
  },
  {
   "cell_type": "code",
   "execution_count": null,
   "metadata": {},
   "outputs": [],
   "source": []
  }
 ],
 "metadata": {
  "kernelspec": {
   "display_name": "Python 3",
   "language": "python",
   "name": "python3"
  },
  "language_info": {
   "codemirror_mode": {
    "name": "ipython",
    "version": 3
   },
   "file_extension": ".py",
   "mimetype": "text/x-python",
   "name": "python",
   "nbconvert_exporter": "python",
   "pygments_lexer": "ipython3",
   "version": "3.7.3"
  }
 },
 "nbformat": 4,
 "nbformat_minor": 2
}
