{
 "cells": [
  {
   "cell_type": "markdown",
   "metadata": {},
   "source": [
    "# Image Analysis with Python\n",
    "## Session 2: Scientific Python Primer\n",
    "\n",
    "__Toby Hodges__  \n",
    "[toby.hodges@embl.de](mailto:toby.hodges@embl.de)  \n",
    "[bio-it.embl.de](https://bio-it.embl.de)"
   ]
  },
  {
   "cell_type": "markdown",
   "metadata": {},
   "source": [
    "In this session:\n",
    "- Give beginners some experience of working with specialised modules\n",
    "- Learn to work with `numpy` arrays\n",
    "- Learn some basic plotting with `matplotlib`\n",
    "- __If we have time__ look at some `pandas`"
   ]
  },
  {
   "cell_type": "markdown",
   "metadata": {},
   "source": [
    "### Part 1: Arrays & `numpy`"
   ]
  },
  {
   "cell_type": "code",
   "execution_count": null,
   "metadata": {},
   "outputs": [],
   "source": [
    "# A reminder about import statements\n",
    "import numpy as np"
   ]
  },
  {
   "cell_type": "code",
   "execution_count": null,
   "metadata": {},
   "outputs": [],
   "source": [
    "# The numpy.ndarray object\n",
    "numbers = list(range(8))\n",
    "print(numbers)"
   ]
  },
  {
   "cell_type": "code",
   "execution_count": null,
   "metadata": {},
   "outputs": [],
   "source": [
    "# some more arrays\n",
    "print(numarray) # can be considered a 'row vector'\n",
    "column = np.array([[10],\n",
    "                   [11],\n",
    "                   [12],\n",
    "                   [13],\n",
    "                   [14],\n",
    "                   [15]]) # a 'column vector'"
   ]
  },
  {
   "cell_type": "code",
   "execution_count": null,
   "metadata": {},
   "outputs": [],
   "source": [
    "# ndarray stands for \"n-dimensional array\"\n",
    "array3d = np.array(\n",
    "    [\n",
    "        [[0, 1, 2], [3, 4, 5]],\n",
    "        [[6, 7, 8], [9, 0, 1]],\n",
    "        [[2, 3, 4], [5, 6, 7]]\n",
    "    ])"
   ]
  },
  {
   "cell_type": "markdown",
   "metadata": {},
   "source": [
    "Monochromatic image files can be considered as 2D numeric arrays, where the value at each position corresponds to the intensity of the associated pixel in the image.\n",
    "\n",
    "<img alt=\"A section of an image file shown as an array of intensity values\"  src=\"images/figC.png\">"
   ]
  },
  {
   "cell_type": "markdown",
   "metadata": {},
   "source": [
    "Often, you will have intensity information for more than one colour. These arrays for different \"channels\", can be treated as layers in an additional dimension in a single array. E.g. an RGB image will have three 2D arrays, one for each of the colours. Image arrays may become 4-dimension, when 'Z-stack' images, of multiple layers in space, are considered, and yet another dimension may also be added when time-series images (i.e. video) are captured.\n",
    "\n",
    "But wait! Couldn't we achieve the same thing with the `list` objects that are built into Python? What's the advantage of using arrays for this? And, while we're on the subject, what the heck is Numpy anyway?\n",
    "\n",
    "Numpy is a \"numeric Python\" library, designed to work with numeric data. Where the Python Standard Library contains (lots of) general-purpose functionality for writing Python scripts, numpy was developed with specialist numeric applications in mind. As such, many of the functions and objects that Numpy contains are much better-suited to the kind of operations that you will regularly perform while working with image data.\n",
    "\n",
    "For example, numpy arrays take up much less RAM than an equivalent `list` object, and mathematical operations on arrays tend to work much faster than for a standard `list`.\n",
    "\n",
    "You may not care about these things now, and I admit that they're not particularly exciting. There are other, more practical advantages to using arrays though..."
   ]
  },
  {
   "cell_type": "markdown",
   "metadata": {},
   "source": [
    "To demonstrate, let's keep looking at some more simple arrays. __But first!__ an exercise to make sure that everyone's awake."
   ]
  },
  {
   "cell_type": "markdown",
   "metadata": {},
   "source": [
    "##### Exercise 1\n",
    "\n",
    "Fill in the blanks in the code below, to triple every value in the list, `list2d`."
   ]
  },
  {
   "cell_type": "code",
   "execution_count": null,
   "metadata": {},
   "outputs": [],
   "source": [
    "list2d =[[0.1, 3.8, 8.9],\n",
    "         [4.4, 9.0, 5.2],\n",
    "         [3.1, 8.4, 5.2]]\n",
    "print(list2d)"
   ]
  },
  {
   "cell_type": "code",
   "execution_count": null,
   "metadata": {},
   "outputs": [],
   "source": [
    "pos    = ___\n",
    "subpos = ___\n",
    "for sublist ___ list2d:\n",
    "    ___ number in ___:\n",
    "        list2d[pos][subpos] = ___ ___ 3\n",
    "        ___ += 1\n",
    "    subpos = 0\n",
    "    ___ ___ ___"
   ]
  },
  {
   "cell_type": "code",
   "execution_count": null,
   "metadata": {},
   "outputs": [],
   "source": [
    "# Optional: ask Toby to show you how to achieve the same thing with enumerate()"
   ]
  },
  {
   "cell_type": "markdown",
   "metadata": {},
   "source": [
    "Now, let's look at how to achieve the same thing with an array."
   ]
  },
  {
   "cell_type": "code",
   "execution_count": null,
   "metadata": {},
   "outputs": [],
   "source": [
    "# using arrays for element-wise multiplications (copy the list2d above)\n"
   ]
  },
  {
   "cell_type": "markdown",
   "metadata": {},
   "source": [
    "Much easier! You can do lots of mathematical operations, element-wise, on arrays just as easily. And matrix arithmetic too! (_Disclaimer: I am not a mathematician._)"
   ]
  },
  {
   "cell_type": "code",
   "execution_count": null,
   "metadata": {},
   "outputs": [],
   "source": [
    "# matrices\n"
   ]
  },
  {
   "cell_type": "code",
   "execution_count": null,
   "metadata": {},
   "outputs": [],
   "source": []
  },
  {
   "cell_type": "code",
   "execution_count": null,
   "metadata": {},
   "outputs": [],
   "source": [
    "# back to arrays\n"
   ]
  },
  {
   "cell_type": "markdown",
   "metadata": {},
   "source": [
    "What is this `float64`? Floating point numbers (numbers represented with decimal places) can be stored with varying levels of precision. A 64-bit number is more precise than a 32-bit number, which is more precise than a 16-bit number, and so on. The same applies to integers. On a computer, integers can only exist between a limited range, which depends on how many bits they are stored in. The exact range depends on whether the integer is 'signed' (includes information about whether the value is above or below zero) or 'unsigned' (positive or zero values only).\n",
    "\n",
    "The datatype of your array determines how precise your values are, and how much memory the array is using up in the background. You also need to be aware of what happens with integer values when you exceed their limits in either direction..."
   ]
  },
  {
   "cell_type": "code",
   "execution_count": null,
   "metadata": {},
   "outputs": [],
   "source": [
    "# looking at the effects of going outside the possible range of a uint8\n"
   ]
  },
  {
   "cell_type": "markdown",
   "metadata": {},
   "source": [
    "That `np.zeros_like()` function is pretty useful. We'll come back to it later. For now, let's have a look at a few other functions that Numpy provides for creating arrays."
   ]
  },
  {
   "cell_type": "code",
   "execution_count": null,
   "metadata": {},
   "outputs": [],
   "source": [
    "np.arange(25)"
   ]
  },
  {
   "cell_type": "code",
   "execution_count": null,
   "metadata": {},
   "outputs": [],
   "source": [
    "range_array = np.arange(25)\n",
    "range_array.shape = (5,5)\n",
    "print(range_array)"
   ]
  },
  {
   "cell_type": "code",
   "execution_count": null,
   "metadata": {},
   "outputs": [],
   "source": [
    "np.ones((8,8), dtype='int16')"
   ]
  },
  {
   "cell_type": "code",
   "execution_count": null,
   "metadata": {},
   "outputs": [],
   "source": [
    "np.random.normal(size=(4,4))"
   ]
  },
  {
   "cell_type": "code",
   "execution_count": null,
   "metadata": {},
   "outputs": [],
   "source": [
    "np.linspace(0, 10, 10, dtype='float16')"
   ]
  },
  {
   "cell_type": "markdown",
   "metadata": {},
   "source": [
    "##### Exercise 2\n",
    "\n",
    "You will need to look at the documentation to do complete of the steps below... Use `help(thing)` or `thing?` to see the help page for an object/function/module called `thing`. `dir(thing)` shows you a list of all the attributes and methods available for `thing`. You can also find the Numpy documentation online at https://docs.scipy.org/doc/numpy-1.14.2/.\n",
    "\n",
    "a) create a random array of 12 integers between 0 and 1000, store it as a variable (you can choose the name)  \n",
    "b) change the data in the array to 32-bit floating point numbers  \n",
    "c) divide the data in the array by 3.3  \n",
    "d) raise every element in the array to the power of 2  "
   ]
  },
  {
   "cell_type": "code",
   "execution_count": null,
   "metadata": {},
   "outputs": [],
   "source": []
  },
  {
   "cell_type": "markdown",
   "metadata": {},
   "source": [
    "#### Part 2: Array Indexing"
   ]
  },
  {
   "cell_type": "markdown",
   "metadata": {},
   "source": [
    "Select parts of an array in the same way as you might do with a standard `list`."
   ]
  },
  {
   "cell_type": "code",
   "execution_count": null,
   "metadata": {},
   "outputs": [],
   "source": [
    "print(array2d)\n"
   ]
  },
  {
   "cell_type": "code",
   "execution_count": null,
   "metadata": {},
   "outputs": [],
   "source": [
    "# accessing a row"
   ]
  },
  {
   "cell_type": "code",
   "execution_count": null,
   "metadata": {},
   "outputs": [],
   "source": [
    "# accessing a single field/cell"
   ]
  },
  {
   "cell_type": "code",
   "execution_count": null,
   "metadata": {},
   "outputs": [],
   "source": [
    "# making 'slices'"
   ]
  },
  {
   "cell_type": "code",
   "execution_count": null,
   "metadata": {},
   "outputs": [],
   "source": []
  },
  {
   "cell_type": "markdown",
   "metadata": {},
   "source": [
    "Ok... But the real power comes from 'masking', or 'Boolean indexing'. This is where that `zeros_like()` function becomes relevant."
   ]
  },
  {
   "cell_type": "code",
   "execution_count": null,
   "metadata": {},
   "outputs": [],
   "source": [
    "big_random_2darray = np.random.randint(100, size=(16,16))\n",
    "print(big_random_2darray)"
   ]
  },
  {
   "cell_type": "code",
   "execution_count": null,
   "metadata": {},
   "outputs": [],
   "source": [
    "# get an equivalent array of zeros"
   ]
  },
  {
   "cell_type": "code",
   "execution_count": null,
   "metadata": {},
   "outputs": [],
   "source": [
    "# selecting using this zeros array\n"
   ]
  },
  {
   "cell_type": "code",
   "execution_count": null,
   "metadata": {},
   "outputs": [],
   "source": [
    "# Boolean selection\n"
   ]
  },
  {
   "cell_type": "code",
   "execution_count": null,
   "metadata": {},
   "outputs": [],
   "source": []
  },
  {
   "cell_type": "markdown",
   "metadata": {},
   "source": [
    "That example was pretty contrived, so let's look at something more realistic, masking some background value."
   ]
  },
  {
   "cell_type": "code",
   "execution_count": null,
   "metadata": {},
   "outputs": [],
   "source": [
    "# creating a Boolean mask based on a condition\n"
   ]
  },
  {
   "cell_type": "code",
   "execution_count": null,
   "metadata": {},
   "outputs": [],
   "source": []
  },
  {
   "cell_type": "markdown",
   "metadata": {},
   "source": [
    "#### Part 3: Visualising arrays with `matplotlib`"
   ]
  },
  {
   "cell_type": "markdown",
   "metadata": {},
   "source": [
    "Ok, now that we're familiar with arrays and Numpy, it's time to look at a bit of plotting. Despite the fact that images can be thought of as numbers, they're still easist to understand when visualised."
   ]
  },
  {
   "cell_type": "code",
   "execution_count": null,
   "metadata": {},
   "outputs": [],
   "source": [
    "# this is only necessary when working in a Jupyter notebook\n",
    "%matplotlib inline"
   ]
  },
  {
   "cell_type": "code",
   "execution_count": null,
   "metadata": {},
   "outputs": [],
   "source": [
    "import matplotlib.pyplot as plt"
   ]
  },
  {
   "cell_type": "code",
   "execution_count": null,
   "metadata": {},
   "outputs": [],
   "source": [
    "# using plt.imshow to visualise an array\n",
    "plt.imshow(big_random_2darray)"
   ]
  },
  {
   "cell_type": "code",
   "execution_count": null,
   "metadata": {},
   "outputs": [],
   "source": [
    "# even larger array\n"
   ]
  },
  {
   "cell_type": "code",
   "execution_count": null,
   "metadata": {},
   "outputs": [],
   "source": []
  },
  {
   "cell_type": "code",
   "execution_count": null,
   "metadata": {},
   "outputs": [],
   "source": []
  },
  {
   "cell_type": "markdown",
   "metadata": {},
   "source": [
    "#### Part 4: Plotting with `matplotlib.pyplot`\n",
    "\n",
    "The general approach to drawing plots with Matplotlib is to build up the plot before finally rendering it with `plt.show()`. In the Jupyter notebook, things work a little differently, and you will probably see the `Figure` object appearing under each cell as you build it up. In this case, it's important that you remember that __you will need to run `plt.show()` when working in a less interactive environment/writing your own scripts__."
   ]
  },
  {
   "cell_type": "code",
   "execution_count": null,
   "metadata": {},
   "outputs": [],
   "source": [
    "# make some random numbers for plotting\n",
    "\n",
    "# we also need a variable, which we'll call bar_positions, to determine where the bars should appear on the x-axis.\n",
    "# the value of this variable should be an array of numbers, from 0 to n-1 where n is the number of data points we have\n"
   ]
  },
  {
   "cell_type": "code",
   "execution_count": null,
   "metadata": {},
   "outputs": [],
   "source": [
    "# plot those random numbers as bars\n"
   ]
  },
  {
   "cell_type": "markdown",
   "metadata": {},
   "source": [
    "Ok, great. We have some bars. But the plot is pretty rudimentary: it's lacking axis labels, for a start. Let's add some, and put alphabetical letters as the x-axis tick labels..."
   ]
  },
  {
   "cell_type": "code",
   "execution_count": null,
   "metadata": {},
   "outputs": [],
   "source": [
    "# customising our plot\n"
   ]
  },
  {
   "cell_type": "markdown",
   "metadata": {},
   "source": [
    "We can add more customisations to our plot, e.g. adding a title, changing the colour of the bars."
   ]
  },
  {
   "cell_type": "code",
   "execution_count": null,
   "metadata": {},
   "outputs": [],
   "source": [
    "# further customisation\n"
   ]
  },
  {
   "cell_type": "markdown",
   "metadata": {},
   "source": [
    "That's a bit better, and this is barely scratching the surface of the options for plotting in Matplotlib. It's not the most user-friendly plotting library (check out Seaborn, Pandas, Plotnine, and others if you'd like to explore the options), but Matplotlib provides absolute control over how your plots look. Check out the documentation for more information: https://matplotlib.org/api/pyplot_summary.html."
   ]
  },
  {
   "cell_type": "markdown",
   "metadata": {},
   "source": [
    "##### Exercise\n",
    "\n",
    "Let's make a second data series, again of random numbers, and add that to our plot too, so that the bars are stacked on top of one another. You will need to look at the documentation of the `plt.bar()` function to figure out how to stack the bars correctly. Create the plot, containing the stacked bars, with the second series plotted in a different colour from the first.\n",
    "\n",
    "__Bonus:__ for extra points (you've been keeping score, right?), add a legend to the figure. Give the two data series whatever names you like. (I think Clark and Audrey are good names.)"
   ]
  },
  {
   "cell_type": "code",
   "execution_count": null,
   "metadata": {},
   "outputs": [],
   "source": []
  },
  {
   "cell_type": "markdown",
   "metadata": {},
   "source": [
    "We'll close the Matplotlib section out with a look at scatter plots. Let's plot the same two series that we made before."
   ]
  },
  {
   "cell_type": "code",
   "execution_count": null,
   "metadata": {},
   "outputs": [],
   "source": [
    "# two series on a scatter plot"
   ]
  },
  {
   "cell_type": "markdown",
   "metadata": {},
   "source": [
    "Wow, that was easy! What if we want to use our two series as X & Y coordinates for a single data series?"
   ]
  },
  {
   "cell_type": "code",
   "execution_count": null,
   "metadata": {},
   "outputs": [],
   "source": [
    "# plotting points as a single series on X- & Y-axes"
   ]
  },
  {
   "cell_type": "markdown",
   "metadata": {},
   "source": [
    "Ok, the last thing that we'll do with Maplotlib today is look at how to arrange multiple plots into a single figure."
   ]
  },
  {
   "cell_type": "code",
   "execution_count": null,
   "metadata": {},
   "outputs": [],
   "source": [
    "# subplots!"
   ]
  },
  {
   "cell_type": "code",
   "execution_count": null,
   "metadata": {},
   "outputs": [],
   "source": [
    "# do we still have time to look at some pandas?"
   ]
  },
  {
   "cell_type": "markdown",
   "metadata": {},
   "source": [
    "<img src='images/panda1.png' alt='a panda' width=500 /> <img src='images/panda2.png' alt='another panda' width=500 /> <img src='images/panda3.png' alt='a third panda' width=500 />\n",
    "_Image credit:_\n",
    "\n",
    "1. _This image was originally posted to Flickr by popofatticus at https://www.flickr.com/photos/49503214348@N01/2478623520. It was reviewed on 10 August 2008 by FlickreviewR and was confirmed to be licensed under the terms of the cc-by-2.0._\n",
    "2. This image was originally posted to Flickr by No Dust at https://www.flickr.com/photos/30073301@N00/3171164610. It was reviewed on 20 August 2009 by FlickreviewR and was confirmed to be licensed under the terms of the cc-by-2.0.\n",
    "3. This image was originally posted to Flickr by greggoconnell at https://www.flickr.com/photos/72511655@N00/146912493. It was reviewed on 4 August 2007 by FlickreviewR and was confirmed to be licensed under the terms of the cc-by-2.0."
   ]
  }
 ],
 "metadata": {
  "kernelspec": {
   "display_name": "Python 3",
   "language": "python",
   "name": "python3"
  },
  "language_info": {
   "codemirror_mode": {
    "name": "ipython",
    "version": 3
   },
   "file_extension": ".py",
   "mimetype": "text/x-python",
   "name": "python",
   "nbconvert_exporter": "python",
   "pygments_lexer": "ipython3",
   "version": "3.6.5"
  }
 },
 "nbformat": 4,
 "nbformat_minor": 2
}
